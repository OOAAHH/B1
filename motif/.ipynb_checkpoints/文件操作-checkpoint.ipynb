{
 "cells": [
  {
   "cell_type": "code",
   "execution_count": null,
   "id": "3030fb53-1957-482d-a679-c279a9d8e549",
   "metadata": {},
   "outputs": [
    {
     "ename": "",
     "evalue": "",
     "output_type": "error",
     "traceback": [
      "\u001b[1;31m运行具有“/Users/sunhao/mambaforge/bin/python”的单元格需要ipykernel包。\n",
      "\u001b[1;31m运行以下命令，将 \"ipykernel\" 安装到 Python 环境中。\n",
      "\u001b[1;31m命令: \"conda install -p /Users/sunhao/mambaforge ipykernel --update-deps --force-reinstall\""
     ]
    }
   ],
   "source": [
    "#把文件据记载一起改名存一起\n",
    "import os\n",
    "import shutil\n",
    "import pandas as pd\n",
    "\n",
    "# 读取CSV文件\n",
    "csv_file = './wheremotif.csv'  # 更新路径\n",
    "df = pd.read_csv(csv_file, delimiter=',')\n",
    "\n",
    "# 目标目录\n",
    "target_directory = './motif_draw_cluster/'  # 更新路径\n",
    "\n",
    "# 创建目标目录（如果不存在）\n",
    "if not os.path.exists(target_directory):\n",
    "    os.makedirs(target_directory)\n",
    "\n",
    "# 处理每一行数据\n",
    "for index, row in df.iterrows():\n",
    "    # 构建原始文件路径\n",
    "    original_file_path = os.path.join(row['path'], row['name'])\n",
    "\n",
    "    # 检查文件是否存在\n",
    "    if not os.path.exists(original_file_path):\n",
    "        print(f\"文件未找到: {original_file_path}\")\n",
    "        continue\n",
    "\n",
    "    # 构建新的文件路径\n",
    "    new_file_name = f\"{row['motif name'].replace('/', '_')}.motif\"  # 替换'/'以避免路径问题\n",
    "    new_file_path = os.path.join(target_directory, new_file_name)\n",
    "\n",
    "    # 复制并重命名文件\n",
    "    shutil.copy2(original_file_path, new_file_path)\n",
    "\n",
    "print(\"文件已成功复制并重命名到目标目录。\")\n"
   ]
  },
  {
   "cell_type": "code",
   "execution_count": 7,
   "id": "d25a370f-321c-4ab1-b967-90f704c163c0",
   "metadata": {},
   "outputs": [],
   "source": [
    "# motif格式的转换\n",
    "import os\n",
    "\n",
    "def convert_homer_to_pwm(input_file, output_file):\n",
    "    with open(input_file, 'r') as infile, open(output_file, 'w') as outfile:\n",
    "        lines = infile.readlines()\n",
    "        header = lines[0].strip().split('\\t')\n",
    "        \n",
    "        # Extract motif name from the header\n",
    "        motif_name = header[0].replace('>', '')\n",
    "        outfile.write(f\">{motif_name}\\n\")\n",
    "        \n",
    "        # Write the matrix data\n",
    "        for line in lines[1:]:\n",
    "            values = line.strip().split('\\t')\n",
    "            outfile.write(\" \".join(values) + \"\\n\")\n",
    "\n",
    "def process_directory(input_dir, output_dir):\n",
    "    if not os.path.exists(output_dir):\n",
    "        os.makedirs(output_dir)\n",
    "\n",
    "    for file_name in os.listdir(input_dir):\n",
    "        if file_name.endswith('.motif'):\n",
    "            input_file = os.path.join(input_dir, file_name)\n",
    "            output_file = os.path.join(output_dir, file_name.replace('.motif', '.pwm'))\n",
    "            convert_homer_to_pwm(input_file, output_file)\n",
    "\n",
    "if __name__ == \"__main__\":\n",
    "    input_directory = '/Users/sunhao/waibao_hezuo/motif/motif_draw_cluster/'  # Update this path to your Homer motif files directory\n",
    "    output_directory = '/Users/sunhao/waibao_hezuo/motif/motif_draw_cluster_pvm/'  # Update this path to your desired output directory\n",
    "    convert_homer_to_motifstack(input_directory, output_directory)\n"
   ]
  },
  {
   "cell_type": "code",
   "execution_count": 10,
   "id": "93d4135f-5b70-40bd-b995-28605089c4db",
   "metadata": {},
   "outputs": [
    {
     "name": "stdout",
     "output_type": "stream",
     "text": [
      "Conversion complete.\n"
     ]
    }
   ],
   "source": [
    "import os\n",
    "\n",
    "def convert_homer_to_pcm(input_file, output_file):\n",
    "    with open(input_file, 'r') as f:\n",
    "        lines = f.readlines()\n",
    "\n",
    "    motif_name = lines[0].split()[0][1:]  # Get the motif name from the first line\n",
    "    matrix = []\n",
    "\n",
    "    for line in lines[1:]:\n",
    "        if line.strip():\n",
    "            values = line.split()\n",
    "            matrix.append(values)\n",
    "\n",
    "    # Transpose the matrix to match PCM format\n",
    "    pcm_matrix = list(zip(*matrix))\n",
    "\n",
    "    with open(output_file, 'w') as f:\n",
    "        f.write(f\">{motif_name}\\n\")\n",
    "        for row in pcm_matrix:\n",
    "            f.write(\"\\t\".join(row) + \"\\n\")\n",
    "\n",
    "# Usage example:\n",
    "input_dir =  '/Users/sunhao/waibao_hezuo/motif/motif_draw_cluster/'  # Replace with the path to your motif files\n",
    "output_dir = '/Users/sunhao/waibao_hezuo/motif/motif_draw_cluster_pvm/'  # Replace with the path to save PCM files\n",
    "\n",
    "if not os.path.exists(output_dir):\n",
    "    os.makedirs(output_dir)\n",
    "\n",
    "for filename in os.listdir(input_dir):\n",
    "    if filename.endswith('.motif'):\n",
    "        input_file = os.path.join(input_dir, filename)\n",
    "        output_file = os.path.join(output_dir, filename.replace('.motif', '.pcm'))\n",
    "        convert_homer_to_pcm(input_file, output_file)\n",
    "\n",
    "print(\"Conversion complete.\")\n"
   ]
  },
  {
   "cell_type": "code",
   "execution_count": 11,
   "id": "cff929c5-8548-426a-895b-a06069311cfc",
   "metadata": {},
   "outputs": [
    {
     "name": "stdout",
     "output_type": "stream",
     "text": [
      "Conversion complete.\n"
     ]
    }
   ],
   "source": [
    "import os\n",
    "\n",
    "def convert_homer_to_pcm(input_file, output_file):\n",
    "    with open(input_file, 'r') as f:\n",
    "        lines = f.readlines()\n",
    "\n",
    "    # Skip the first line and process the rest\n",
    "    matrix = []\n",
    "    for line in lines[1:]:\n",
    "        if line.strip():\n",
    "            values = line.split()\n",
    "            matrix.append(values)\n",
    "\n",
    "    # Transpose the matrix to match PCM format\n",
    "    pcm_matrix = list(zip(*matrix))\n",
    "\n",
    "    with open(output_file, 'w') as f:\n",
    "        for row in pcm_matrix:\n",
    "            f.write(\"\\t\".join(row) + \"\\n\")\n",
    "            \n",
    "# Usage example:\n",
    "input_dir =  '/Users/sunhao/waibao_hezuo/motif/motif_draw_cluster/'  # Replace with the path to your motif files\n",
    "output_dir = '/Users/sunhao/waibao_hezuo/motif/motif_draw_cluster_pcm/'  # Replace with the path to save PCM files\n",
    "\n",
    "if not os.path.exists(output_dir):\n",
    "    os.makedirs(output_dir)\n",
    "\n",
    "for filename in os.listdir(input_dir):\n",
    "    if filename.endswith('.motif'):\n",
    "        input_file = os.path.join(input_dir, filename)\n",
    "        output_file = os.path.join(output_dir, filename.replace('.motif', '.pcm'))\n",
    "        convert_homer_to_pcm(input_file, output_file)\n",
    "\n",
    "print(\"Conversion complete.\")\n"
   ]
  },
  {
   "cell_type": "code",
   "execution_count": 12,
   "id": "5c4acd98-7ec4-47d8-8e6a-8f7ecf260929",
   "metadata": {},
   "outputs": [
    {
     "name": "stdout",
     "output_type": "stream",
     "text": [
      "Renamed: Nur77(NR)_K562-NR4A1-ChIP-Seq(GSE31363)_H_Users_sunhao_waibao_hezuo_motif_OM_enrich_motifDAR_knownResultser.pcm -> Nur77(NR)_K562-NR4A1-ChIP-Seq(GSE31363).pcm\n",
      "Renamed: NFkB-p65(RHD)_GM12787-p65-ChIP-Seq(GSE19485)_H_Users_sunhao_waibao_hezuo_motif_OM_enrich_motifDAR_knownResultser.pcm -> NFkB-p65(RHD)_GM12787-p65-ChIP-Seq(GSE19485).pcm\n",
      "Renamed: Gata4(Zf)_Heart-Gata4-ChIP-Seq(GSE35151)_H_Users_sunhao_waibao_hezuo_motif_OM_enrich_motifDAR_knownResultser.pcm -> Gata4(Zf)_Heart-Gata4-ChIP-Seq(GSE35151).pcm\n",
      "Renamed: p73(p53)_Trachea-p73-ChIP-Seq(PRJNA310161)_H_Users_sunhao_waibao_hezuo_motif_OM_enrich_motifDAR_knownResultser.pcm -> p73(p53)_Trachea-p73-ChIP-Seq(PRJNA310161).pcm\n",
      "Renamed: STAT6(Stat)_Macrophage-Stat6-ChIP-Seq(GSE38377)_H_Users_sunhao_waibao_hezuo_motif_OM_enrich_motifDAR_knownResultser.pcm -> STAT6(Stat)_Macrophage-Stat6-ChIP-Seq(GSE38377).pcm\n",
      "Renamed: Klf4(Zf)_mES-Klf4-ChIP-Seq(GSE11431)_H_Users_sunhao_waibao_hezuo_motif_OM_enrich_motifDAR_knownResultser.pcm -> Klf4(Zf)_mES-Klf4-ChIP-Seq(GSE11431).pcm\n",
      "Renamed: IRF8(IRF)_BMDM-IRF8-ChIP-Seq(GSE77884)_H_Users_sunhao_waibao_hezuo_motif_OM_enrich_motifDAR_knownResultser.pcm -> IRF8(IRF)_BMDM-IRF8-ChIP-Seq(GSE77884).pcm\n",
      "Renamed: ETS1(ETS)_Jurkat-ETS1-ChIP-Seq(GSE17954)_H_Users_sunhao_waibao_hezuo_motif_OM_enrich_motifDAR_knownResultser.pcm -> ETS1(ETS)_Jurkat-ETS1-ChIP-Seq(GSE17954).pcm\n",
      "Renamed: n-Myc(bHLH)_mES-nMyc-ChIP-Seq(GSE11431)_H_Users_sunhao_waibao_hezuo_motif_OM_enrich_motifDAR_knownResultser.pcm -> n-Myc(bHLH)_mES-nMyc-ChIP-Seq(GSE11431).pcm\n",
      "Renamed: PU.1-IRF(ETS:IRF)_Bcell-PU.1-ChIP-Seq(GSE21512)_H_Users_sunhao_waibao_hezuo_motif_OM_enrich_motifDAR_knownResultser.pcm -> PU.1-IRF(ETS:IRF)_Bcell-PU.1-ChIP-Seq(GSE21512).pcm\n",
      "Renamed: Gata1(Zf)_K562-GATA1-ChIP-Seq(GSE18829)_H_Users_sunhao_waibao_hezuo_motif_OM_enrich_motifDAR_knownResultser.pcm -> Gata1(Zf)_K562-GATA1-ChIP-Seq(GSE18829).pcm\n",
      "Renamed: Bcl11a(Zf)_HSPC-BCL11A-ChIP-Seq(GSE104676)_H_Users_sunhao_waibao_hezuo_motif_OM_enrich_motifDAR_knownResultser.pcm -> Bcl11a(Zf)_HSPC-BCL11A-ChIP-Seq(GSE104676).pcm\n",
      "Renamed: FOXA1(Forkhead)_MCF7-FOXA1-ChIP-Seq(GSE26831)_H_Users_sunhao_waibao_hezuo_motif_OM_enrich_motifDAR_knownResultser.pcm -> FOXA1(Forkhead)_MCF7-FOXA1-ChIP-Seq(GSE26831).pcm\n",
      "Renamed: CTCF(Zf)_CD4+-CTCF-ChIP-Seq(Barski_et_al.)_H_Users_sunhao_waibao_hezuo_motif_OM_enrich_motifDAR_knownResultser.pcm -> CTCF(Zf)_CD4+-CTCF-ChIP-Seq(Barski_et_al.).pcm\n",
      "Renamed: FOXP1(Forkhead)_H9-FOXP1-ChIP-Seq(GSE31006)_H_Users_sunhao_waibao_hezuo_motif_OM_enrich_motifDAR_knownResultser.pcm -> FOXP1(Forkhead)_H9-FOXP1-ChIP-Seq(GSE31006).pcm\n",
      "Renaming complete.\n"
     ]
    }
   ],
   "source": [
    "import os\n",
    "\n",
    "# Define the directory containing the files to be renamed\n",
    "directory = '/Users/sunhao/waibao_hezuo/motif/motif_draw_cluster_pcm/'  # Update this path to your actual directory\n",
    "\n",
    "# Define the part of the filename to be removed\n",
    "part_to_remove = '_H_Users_sunhao_waibao_hezuo_motif_OM_enrich_motifDAR_knownResultser'\n",
    "\n",
    "# Function to rename files\n",
    "def rename_files_in_directory(directory, part_to_remove):\n",
    "    for filename in os.listdir(directory):\n",
    "        if part_to_remove in filename:\n",
    "            new_filename = filename.replace(part_to_remove, '')\n",
    "            os.rename(\n",
    "                os.path.join(directory, filename),\n",
    "                os.path.join(directory, new_filename)\n",
    "            )\n",
    "            print(f'Renamed: {filename} -> {new_filename}')\n",
    "\n",
    "# Run the renaming function\n",
    "rename_files_in_directory(directory, part_to_remove)\n",
    "\n",
    "print(\"Renaming complete.\")\n"
   ]
  },
  {
   "cell_type": "code",
   "execution_count": 13,
   "id": "24856bc0-6681-43e9-a63f-e6172529d7b6",
   "metadata": {},
   "outputs": [
    {
     "name": "stdout",
     "output_type": "stream",
     "text": [
      "Renamed and moved: Nur77(NR)_K562-NR4A1-ChIP-Seq(GSE31363).pcm -> Nur77(NR)\n",
      "Renamed and moved: NFkB-p65(RHD)_GM12787-p65-ChIP-Seq(GSE19485).pcm -> NFkB-p65(RHD)\n",
      "Renamed and moved: Gata1(Zf)_K562-GATA1-ChIP-Seq(GSE18829).pcm -> Gata1(Zf)\n",
      "Renamed and moved: FOXA1(Forkhead)_MCF7-FOXA1-ChIP-Seq(GSE26831).pcm -> FOXA1(Forkhead)\n",
      "Renamed and moved: STAT6(Stat)_Macrophage-Stat6-ChIP-Seq(GSE38377).pcm -> STAT6(Stat)\n",
      "Renamed and moved: Klf4(Zf)_mES-Klf4-ChIP-Seq(GSE11431).pcm -> Klf4(Zf)\n",
      "Renamed and moved: Gata4(Zf)_Heart-Gata4-ChIP-Seq(GSE35151).pcm -> Gata4(Zf)\n",
      "Renamed and moved: Bcl11a(Zf)_HSPC-BCL11A-ChIP-Seq(GSE104676).pcm -> Bcl11a(Zf)\n",
      "Renamed and moved: IRF8(IRF)_BMDM-IRF8-ChIP-Seq(GSE77884).pcm -> IRF8(IRF)\n",
      "Renamed and moved: ETS1(ETS)_Jurkat-ETS1-ChIP-Seq(GSE17954).pcm -> ETS1(ETS)\n",
      "Renamed and moved: PU.1-IRF(ETS:IRF)_Bcell-PU.1-ChIP-Seq(GSE21512).pcm -> PU.1-IRF(ETS:IRF)\n",
      "Renamed and moved: p73(p53)_Trachea-p73-ChIP-Seq(PRJNA310161).pcm -> p73(p53)\n",
      "Renamed and moved: CTCF(Zf)_CD4+-CTCF-ChIP-Seq(Barski_et_al.).pcm -> CTCF(Zf)\n",
      "Renamed and moved: n-Myc(bHLH)_mES-nMyc-ChIP-Seq(GSE11431).pcm -> n-Myc(bHLH)\n",
      "Renamed and moved: FOXP1(Forkhead)_H9-FOXP1-ChIP-Seq(GSE31006).pcm -> FOXP1(Forkhead)\n",
      "Batch renaming and moving completed.\n"
     ]
    }
   ],
   "source": [
    "import os\n",
    "import shutil\n",
    "\n",
    "# 定义包含原始文件的目录和目标目录\n",
    "source_dir = '/Users/sunhao/waibao_hezuo/motif/motif_draw_cluster_pcm/'  # 更新为你的实际目录\n",
    "target_dir = '/Users/sunhao/waibao_hezuo/motif/motif_draw_cluster_pcm_shortname/'  # 更新为你的目标目录\n",
    "\n",
    "# 确保目标目录存在\n",
    "if not os.path.exists(target_dir):\n",
    "    os.makedirs(target_dir)\n",
    "\n",
    "# 遍历源目录中的所有文件\n",
    "for filename in os.listdir(source_dir):\n",
    "    if os.path.isfile(os.path.join(source_dir, filename)):\n",
    "        # 使用“_”进行切分并只保留第一个元素\n",
    "        new_filename = filename.split('_')[0]\n",
    "        # 构造完整的源文件路径和目标文件路径\n",
    "        source_file = os.path.join(source_dir, filename)\n",
    "        target_file = os.path.join(target_dir, new_filename)\n",
    "        # 将文件移动到目标目录并重命名\n",
    "        shutil.move(source_file, target_file)\n",
    "        print(f'Renamed and moved: {filename} -> {new_filename}')\n",
    "\n",
    "print(\"Batch renaming and moving completed.\")\n"
   ]
  },
  {
   "cell_type": "code",
   "execution_count": null,
   "id": "7d9eedfa-23e1-44b5-a4ef-674405168b5b",
   "metadata": {},
   "outputs": [],
   "source": []
  }
 ],
 "metadata": {
  "kernelspec": {
   "display_name": "Python 3 (ipykernel)",
   "language": "python",
   "name": "python3"
  },
  "language_info": {
   "codemirror_mode": {
    "name": "ipython",
    "version": 3
   },
   "file_extension": ".py",
   "mimetype": "text/x-python",
   "name": "python",
   "nbconvert_exporter": "python",
   "pygments_lexer": "ipython3",
   "version": "3.11.7"
  }
 },
 "nbformat": 4,
 "nbformat_minor": 5
}
